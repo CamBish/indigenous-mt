{
 "cells": [
  {
   "cell_type": "code",
   "execution_count": 3,
   "metadata": {},
   "outputs": [
    {
     "name": "stdout",
     "output_type": "stream",
     "text": [
      "ModelResponse(id='chatcmpl-c8eb96ee-08e1-40c1-ba72-7c6e1bb2c8e8', choices=[Choices(finish_reason='stop', index=0, message={'role': 'assistant', 'content': 'A Inuktitut (Inuit) text!\\n\\nHere\\'s the transliteration and translation:\\n\\nTransliteration:\\nNirvik-po Kamalik-po: Unnauq-juq\\n\\nTranslation:\\nThe weather is good, but the hunting is bad.\\n\\nBreakdown:\\n\\n* ᐃᓚᖏᑦ (Nirvik-po) - The weather is good\\n* ᑲᑎᒪᔩᑦ (Kamalik-po) - but the (hunting/fishing) is bad\\n* ᐊᖏᖅᐳᒍᑦ (Unnauq-juq) - The (subjective marker \"un-\" indicates that this is a statement about something unpleasant) is not good\\n\\nIn this text, the speaker is saying that the weather is fine, but their hunting or fishing trip did not go well.'})], created=1713549711, model='ollama/llama3', object='chat.completion', system_fingerprint=None, usage=Usage(prompt_tokens=145, completion_tokens=195, total_tokens=340))\n"
     ]
    }
   ],
   "source": [
    "from litellm import completion\n",
    "\n",
    "response = completion(\n",
    "    model=\"ollama_chat/llama3\", \n",
    "    messages=[{\"role\": \"system\", \"content:\": \n",
    "        \"\"\"You are a machine translation system that operates in two steps.\n",
    "        Step 1 - The user will provide Inuktitut text denoted by \"Text: \".\n",
    "        Transliterate the text to roman characters with a prefix that says \"Romanization: \".\n",
    "        Step 2 - Translate the romanized text from step 1 into English with a prefix that says \"Translation: \" ###\n",
    "        \"\"\",\n",
    "        \"role\": \"user\", \"content\": \"Provide the English transliteration and translation for the following text: ᐃᓚᖏᑦ ᑲᑎᒪᔩᑦ: ᐊᖏᖅᐳᒍᑦ ###\"  \n",
    "        }], \n",
    "    \n",
    "    api_base=\"http://localhost:11434\"\n",
    ")\n",
    "print(response)"
   ]
  },
  {
   "cell_type": "code",
   "execution_count": 9,
   "metadata": {},
   "outputs": [],
   "source": [
    "from openai import OpenAIError\n",
    "from litellm import completion\n",
    "def chat_completion_ollama_api(\n",
    "    messages,\n",
    "    model,\n",
    "    options=None,\n",
    "):\n",
    "    api_base = \"http://localhost:11434\"\n",
    "    json_data = {\"model\": model, \"messages\": messages, \"api_base\": api_base}\n",
    "    if options is not None:\n",
    "        json_data[\"options\"] = options\n",
    "\n",
    "    try:\n",
    "        return completion(**json_data)\n",
    "    except OpenAIError as e:\n",
    "        print(\"Unable to generate ChatCompletion response\")\n",
    "        print(f\"Exception: {e}\")\n",
    "        return e"
   ]
  },
  {
   "cell_type": "code",
   "execution_count": 10,
   "metadata": {},
   "outputs": [
    {
     "name": "stdout",
     "output_type": "stream",
     "text": [
      "ModelResponse(id='chatcmpl-2978a078-04bb-4f2d-87fb-9878590931d8', choices=[Choices(finish_reason='stop', index=0, message={'role': 'assistant', 'content': 'The provided text is in the Inuktitut language, which is spoken by the Inuit people of Canada and Greenland. Here\\'s the English transliteration and translation:\\n\\nTransliteration:\\nIñuruppo kamlorquja: Iñuhuqulujjaa\\n\\nTranslation:\\n\"This child will be strong: it will learn quickly.\"\\n\\nHere\\'s a breakdown of the transliteration and translation:\\n\\n* ᐃᓚᖏᑦ (Iñuruppo) means \"this child\"\\n* ᑲᑎᒪᔩᑦ (kamlorquja) is an adjective meaning \"strong\" or \"powerful\". The suffix -quja indicates that the noun it modifies (in this case, \"child\") will have a certain quality.\\n* ᐊᖏᖅᐳᒍᑦ (Iñuhuqulujjaa) is a sentence indicating that the child in question will learn quickly. The verb ᐊᖏᖅ (Iñuhuq) means \"to learn\", and the suffix -lujjaa indicates that the action of learning will be done in a quick or rapid manner.\\n\\nNote: Inuktitut is an agglutinative language, which means that it uses a system of suffixes and prefixes to indicate grammatical relationships. The transliteration provided above reflects this unique characteristic of the language.'})], created=1713551030, model='ollama/llama3', object='chat.completion', system_fingerprint=None, usage=Usage(prompt_tokens=69, completion_tokens=303, total_tokens=372))\n"
     ]
    }
   ],
   "source": [
    "messages=[{\"role\": \"system\", \"content:\": \n",
    "        \"\"\"You are a machine translation system that operates in two steps.\n",
    "        Step 1 - The user will provide Inuktitut text denoted by \"Text: \".\n",
    "        Transliterate the text to roman characters with a prefix that says \"Romanization: \".\n",
    "        Step 2 - Translate the romanized text from step 1 into English with a prefix that says \"Translation: \" ###\n",
    "        \"\"\",\n",
    "        \"role\": \"user\", \"content\": \"Provide the English transliteration and translation for the following text: ᐃᓚᖏᑦ ᑲᑎᒪᔩᑦ: ᐊᖏᖅᐳᒍᑦ ###\"  \n",
    "        }]\n",
    "\n",
    "response = chat_completion_ollama_api(model=\"ollama_chat/llama3\", messages=messages)\n",
    "print(response)"
   ]
  }
 ],
 "metadata": {
  "kernelspec": {
   "display_name": "thesisEnv",
   "language": "python",
   "name": "python3"
  },
  "language_info": {
   "codemirror_mode": {
    "name": "ipython",
    "version": 3
   },
   "file_extension": ".py",
   "mimetype": "text/x-python",
   "name": "python",
   "nbconvert_exporter": "python",
   "pygments_lexer": "ipython3",
   "version": "3.12.2"
  }
 },
 "nbformat": 4,
 "nbformat_minor": 2
}
